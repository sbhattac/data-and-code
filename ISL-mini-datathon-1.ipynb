{
  "nbformat": 4,
  "nbformat_minor": 0,
  "metadata": {
    "colab": {
      "name": "ISL_team_activity_Jan5_2022.ipynb",
      "provenance": [],
      "collapsed_sections": []
    },
    "kernelspec": {
      "name": "python3",
      "display_name": "Python 3"
    },
    "language_info": {
      "name": "python"
    }
  },
  "cells": [
    {
      "cell_type": "markdown",
      "source": [
        "#<b><u>ISL team activity for Jan 5, 2022 </u></b> <br> <i> <b>Today's topic:</b> using image segmentation AI to create software that will automatically count number of persons in a scene, and compare different scenes based on the count. Uses the PixelLib package found at https://github.com/ayoolaolafenwa/PixelLib</i>\n",
        "### Team activities are designed to be instructive and fun, and can be completed in short time during the working part of an ISL meeting. They will introduce an AI topic at the <b><i>user / programmer</b></i> level and with future iterations we can get <b><i>more in-depth into understanding the AI architecture.</b></i> "
      ],
      "metadata": {
        "id": "Skpun7aOWxQi"
      }
    },
    {
      "cell_type": "markdown",
      "source": [
        "<b>Next two code cells</b> should be used as-is to install necessary packages and download files. Just run the cells and you may suppress the output after the they finish execution. <br><b>Discuss the following questions:</b> \n",
        "<br>1. What packages are being installed? Where are they installed?\n",
        "<br>2. What files are being downloaded? What is \"wget\"?"
      ],
      "metadata": {
        "id": "LdVUatVXaZ9z"
      }
    },
    {
      "cell_type": "code",
      "execution_count": null,
      "metadata": {
        "id": "MmaLHtEYYEdZ"
      },
      "outputs": [],
      "source": [
        "!pip3 install pycocotools\n",
        "!pip3 install pixellib"
      ]
    },
    {
      "cell_type": "code",
      "source": [
        "!wget https://github.com/ayoolaolafenwa/PixelLib/releases/download/0.2.0/pointrend_resnet50.pkl"
      ],
      "metadata": {
        "id": "cFCxFp43Z7V2"
      },
      "execution_count": null,
      "outputs": []
    },
    {
      "cell_type": "markdown",
      "source": [
        "<b>TO DO:</b> the two test images scene1.jpg and scene2.jpg will be provided. Upload them to your google colab drive. This step will be demonstrated.\n",
        "<br><b>Next two code cells</b> should be used as-is to create an instance segmentation object, load the PointRend segmentation model and call the function to perform segmentation and save results into an output image. Just run the cell and view the output image by double-clicking file on colab. The second code cell lets you see the contents of the <i>results dictionary </i>(a dictionary is key-value mapping data structure in Python) which is returned by the <i>segmentImage function</i>.\n",
        "<br><b>Discuss the following questions:</b>\n",
        "1. How many persons were found in this scene?\n",
        "2. What other information does results have?"
      ],
      "metadata": {
        "id": "Rm6Q05zge99y"
      }
    },
    {
      "cell_type": "code",
      "source": [
        "import pixellib\n",
        "from pixellib.torchbackend.instance import instanceSegmentation\n",
        "\n",
        "ins = instanceSegmentation()\n",
        "ins.load_model(\"pointrend_resnet50.pkl\")\n",
        "results, out_image = ins.segmentImage(\"scene1.jpg\", show_bboxes=True, output_image_name=\"scene1_output.jpg\")"
      ],
      "metadata": {
        "id": "jfUkWFRxYcKT"
      },
      "execution_count": null,
      "outputs": []
    },
    {
      "cell_type": "code",
      "source": [
        "results['object_counts']"
      ],
      "metadata": {
        "id": "mYUTl9kon7e9"
      },
      "execution_count": null,
      "outputs": []
    },
    {
      "cell_type": "code",
      "source": [
        "## see the results object"
      ],
      "metadata": {
        "id": "zc6UrbMRuTuT"
      },
      "execution_count": null,
      "outputs": []
    },
    {
      "cell_type": "markdown",
      "source": [
        "<b>More activities</b>: repeat the above analysis for the other image scene2.jpg. <br><b>Discuss:</b> which scene has more number of people?"
      ],
      "metadata": {
        "id": "nM5WJ5FKu6B6"
      }
    },
    {
      "cell_type": "code",
      "source": [
        "## code for segmenting scene2.jpg"
      ],
      "metadata": {
        "id": "Y9fxVkG8vL89"
      },
      "execution_count": null,
      "outputs": []
    }
  ]
}